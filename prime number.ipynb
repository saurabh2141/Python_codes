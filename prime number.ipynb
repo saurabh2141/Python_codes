{
 "cells": [
  {
   "cell_type": "code",
   "execution_count": 62,
   "id": "137094f0",
   "metadata": {},
   "outputs": [
    {
     "name": "stdout",
     "output_type": "stream",
     "text": [
      "enter the number: 150\n",
      "is prime\n",
      "is prime\n",
      "is prime\n",
      "is prime\n",
      "is prime\n",
      "is prime\n",
      "is prime\n",
      "is prime\n",
      "is prime\n",
      "is prime\n",
      "is prime\n",
      "is prime\n",
      "is prime\n",
      "is prime\n",
      "is prime\n",
      "is prime\n",
      "is prime\n",
      "is prime\n",
      "is prime\n",
      "is prime\n",
      "is prime\n",
      "is prime\n",
      "is prime\n",
      "is prime\n",
      "is prime\n",
      "is prime\n",
      "is prime\n",
      "is prime\n",
      "is prime\n",
      "is prime\n",
      "is prime\n",
      "is prime\n",
      "is prime\n",
      "is prime\n",
      "is prime\n",
      "is prime\n",
      "is prime\n",
      "is prime\n",
      "is prime\n",
      "is prime\n",
      "is prime\n",
      "is prime\n",
      "is prime\n",
      "is prime\n",
      "is prime\n",
      "is prime\n",
      "is prime\n",
      "is prime\n",
      "is prime\n",
      "is prime\n"
     ]
    }
   ],
   "source": [
    "def prime(n):\n",
    "    flag=False\n",
    "    \n",
    "    if n==1:\n",
    "        print('not prime')\n",
    "    elif n>2:\n",
    "        for i in range(2,n):\n",
    "            if n%i==0:\n",
    "                flag=True\n",
    "            else:\n",
    "                flag=False\n",
    "    \n",
    "    if flag:\n",
    "        return 'not prime'\n",
    "    else:\n",
    "        return 'is prime'\n",
    "        \n",
    "n=int(input('enter the number: '))\n",
    "print(prime(n))"
   ]
  },
  {
   "cell_type": "code",
   "execution_count": 55,
   "id": "5353f538",
   "metadata": {},
   "outputs": [
    {
     "data": {
      "text/plain": [
       "(137438953471, 7374383)"
      ]
     },
     "execution_count": 55,
     "metadata": {},
     "output_type": "execute_result"
    }
   ],
   "source": [
    " 137438953471,7374383"
   ]
  },
  {
   "cell_type": "code",
   "execution_count": 70,
   "id": "ef82057d",
   "metadata": {},
   "outputs": [
    {
     "data": {
      "text/plain": [
       "array([2, 4, 6])"
      ]
     },
     "execution_count": 70,
     "metadata": {},
     "output_type": "execute_result"
    }
   ],
   "source": [
    "import numpy as np\n",
    "\n",
    "n=np.array([[1,2,3],[2,3,5]])\n",
    "n[0,:]+n[0]"
   ]
  },
  {
   "cell_type": "code",
   "execution_count": 71,
   "id": "d70ac728",
   "metadata": {},
   "outputs": [],
   "source": [
    "n[-1]=[1,2,3]"
   ]
  },
  {
   "cell_type": "code",
   "execution_count": 72,
   "id": "d017a086",
   "metadata": {},
   "outputs": [
    {
     "data": {
      "text/plain": [
       "array([[1, 2, 3],\n",
       "       [1, 2, 3]])"
      ]
     },
     "execution_count": 72,
     "metadata": {},
     "output_type": "execute_result"
    }
   ],
   "source": [
    "n"
   ]
  },
  {
   "cell_type": "code",
   "execution_count": null,
   "id": "679b3a3a",
   "metadata": {},
   "outputs": [],
   "source": []
  }
 ],
 "metadata": {
  "kernelspec": {
   "display_name": "Python 3 (ipykernel)",
   "language": "python",
   "name": "python3"
  },
  "language_info": {
   "codemirror_mode": {
    "name": "ipython",
    "version": 3
   },
   "file_extension": ".py",
   "mimetype": "text/x-python",
   "name": "python",
   "nbconvert_exporter": "python",
   "pygments_lexer": "ipython3",
   "version": "3.9.13"
  }
 },
 "nbformat": 4,
 "nbformat_minor": 5
}
