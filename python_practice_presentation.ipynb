{
 "cells": [
  {
   "cell_type": "markdown",
   "id": "5008eaf7",
   "metadata": {},
   "source": [
    "# Basic python problems"
   ]
  },
  {
   "cell_type": "markdown",
   "id": "1090b8fd",
   "metadata": {},
   "source": [
    "1) Have the function QuestionsMarks(str) take the str string parameter, which will contain single digit numbers, letters, and question marks, and check if there are exactly 3 question marks between every pair of two numbers that add up to 10. If so, then your program should return the string true, otherwise it should return the string false. If there aren't any two numbers that add up to 10 in the string, then your program should return false as well.\n",
    "\n",
    "For example: if str is \"arrb6???4xxbl5???eee5\" then your program should return true because there are exactly 3 question marks between 6 and 4, and 3 question marks between 5 and 5 at the end of the string.\n",
    "\n",
    "Input: \"aa6?9\" Output: false\n",
    "\n",
    "Input: \"acc?7??sss?3rr1??????5\" Output: true"
   ]
  },
  {
   "cell_type": "code",
   "execution_count": 93,
   "id": "acda5073",
   "metadata": {},
   "outputs": [
    {
     "name": "stdout",
     "output_type": "stream",
     "text": [
      "False\n"
     ]
    }
   ],
   "source": [
    "def question_mark(s):\n",
    "    l=[]\n",
    "    l1=[]\n",
    "    count=0\n",
    "    count_10=0\n",
    "    \n",
    "    for i in s:\n",
    "        if i.isdigit() or i=='?':\n",
    "            l.append(i)\n",
    "    \n",
    "    for i in range(len(l)):\n",
    "        if l[i].isdigit():\n",
    "            if i+4<len(l) and l[i+4].isdigit():\n",
    "                count+=1\n",
    "    \n",
    "    for i in l:\n",
    "        if i.isdigit():\n",
    "            l1.append(int(i))\n",
    "    for i in range(len(l1)):\n",
    "        if i+1<len(l1) and l1[i]+l1[i+1]==10:\n",
    "            count_10+=1\n",
    "            \n",
    "    if count>=1 and count_10>=1:\n",
    "        return True\n",
    "    else:\n",
    "        return False\n",
    "    \n",
    "s=\"aa6?9\"\n",
    "print(question_mark(s))"
   ]
  },
  {
   "cell_type": "markdown",
   "id": "12416b9a",
   "metadata": {},
   "source": [
    "2) Find Intersection\n",
    "Have the function FindIntersection(strArr) read the array of strings stored in strArr which will contain 2 elements: the first element will represent a list of comma-separated numbers sorted in ascending order, the second element will represent a second list of comma-separated numbers (also sorted). Your goal is to return a comma-separated string containing the numbers that occur in elements of strArr in sorted order. If there is no intersection, return the string false.\n",
    "\n",
    "Examples\n",
    "\n",
    "Input: [\"1, 3, 4, 7, 13\", \"1, 2, 4, 13, 15\"]\n",
    "\n",
    "Output: 1,4,13\n",
    "\n",
    "Input: [\"1, 3, 9, 10, 17, 18\", \"1, 4, 9, 10\"]\n",
    "\n",
    "Output: 1,9,10"
   ]
  },
  {
   "cell_type": "code",
   "execution_count": 111,
   "id": "3230e2e8",
   "metadata": {},
   "outputs": [
    {
     "data": {
      "text/plain": [
       "['1', '4', '13']"
      ]
     },
     "execution_count": 111,
     "metadata": {},
     "output_type": "execute_result"
    }
   ],
   "source": [
    "a=[\"1, 3, 4, 7, 13\", \"1, 2, 4, 13, 15\"]\n",
    "a1=a[0].split()\n",
    "a2=a[1].split()\n",
    "a11=[]\n",
    "a12=[]\n",
    "a13=[]\n",
    "\n",
    "for i in a1:\n",
    "    a11.append(i.replace(',',''))\n",
    "    \n",
    "for i in a2:\n",
    "    a12.append(i.replace(',',''))\n",
    "    \n",
    "for i in a11:\n",
    "    if i in a12:\n",
    "        a13.append(i)\n",
    "a13\n"
   ]
  },
  {
   "cell_type": "markdown",
   "id": "642fd406",
   "metadata": {},
   "source": [
    "3)First Reverse\n",
    "Have the function FirstReverse(str) take the str parameter being passed and return the string in reversed order. For example: if the input string is \"Hello World and Coders\" then your program should return the string sredoC dna dlroW olleH.\n",
    "Examples\n",
    "\n",
    "Input: \"coderbyte\"\n",
    "\n",
    "Output: etybredoc\n",
    "\n",
    "Input: \"I Love Code\"\n",
    "\n",
    "Output: edoC evoL I"
   ]
  },
  {
   "cell_type": "code",
   "execution_count": 114,
   "id": "4d06faa0",
   "metadata": {},
   "outputs": [
    {
     "data": {
      "text/plain": [
       "'etybredoc'"
      ]
     },
     "execution_count": 114,
     "metadata": {},
     "output_type": "execute_result"
    }
   ],
   "source": [
    "b='coderbyte'\n",
    "res=b[::-1]\n",
    "res"
   ]
  },
  {
   "cell_type": "markdown",
   "id": "f430603f",
   "metadata": {},
   "source": [
    "4) First Factorial\n",
    "Have the function FirstFactorial(num) take the num parameter being passed and return the factorial of it. For example: if num = 4, then your program should return (4 * 3 * 2 * 1) = 24. For the test cases, the range will be between 1 and 18 and the input will always be an integer.\n",
    "Examples\n",
    "\n",
    "Input: 4\n",
    "\n",
    "Output: 24\n",
    "\n",
    "Input: 8\n",
    "\n",
    "Output: 40320"
   ]
  },
  {
   "cell_type": "code",
   "execution_count": 126,
   "id": "f82b44cd",
   "metadata": {},
   "outputs": [
    {
     "name": "stdout",
     "output_type": "stream",
     "text": [
      "enter the number: 8\n",
      "40320\n"
     ]
    }
   ],
   "source": [
    "n=int(input('enter the number: '))\n",
    "z=[]\n",
    "result=1\n",
    "for i in range(1,n+1):\n",
    "    z.append(i)\n",
    "for i in z:\n",
    "    result*=i\n",
    "print(result)    "
   ]
  },
  {
   "cell_type": "markdown",
   "id": "7446946a",
   "metadata": {},
   "source": [
    "5)Have the function LongestWord(sen) take the sen parameter being passed and return the longest word in the string. If there are two or more words that are the same length, return the first word from the string with that length. Ignore punctuation and assume sen will not be empty. Words may also contain numbers, for example \"Hello world123 567\"\n",
    "Examples\n",
    "\n",
    "Input: \"fun&!! time\"\n",
    "    \n",
    "Output: time\n",
    "    \n",
    "Input: \"I love dogs\"\n",
    "    \n",
    "Output: love"
   ]
  },
  {
   "cell_type": "code",
   "execution_count": 205,
   "id": "146c2f78",
   "metadata": {},
   "outputs": [
    {
     "name": "stdout",
     "output_type": "stream",
     "text": [
      "Hello\n"
     ]
    }
   ],
   "source": [
    "def LongestWord(sen):\n",
    "    x=sen.split()\n",
    "    y1=[]\n",
    "    count1=''\n",
    "    \n",
    "    for i in range(len(x)):\n",
    "        if x[i].isalpha():\n",
    "            y1.append(x[i])\n",
    "        else:\n",
    "            for j in x[i]:\n",
    "                if j.isalpha():\n",
    "                    count1+=j\n",
    "    y1.append(count1)\n",
    "    \n",
    "    long_word=''\n",
    "    for i in y1:\n",
    "        if len(i)>len(long_word):\n",
    "            long_word=i\n",
    "    return long_word\n",
    "        \n",
    "            \n",
    "sen=\"Hello world123567\"\n",
    "print(LongestWord(sen))"
   ]
  },
  {
   "cell_type": "markdown",
   "id": "2105ab5f",
   "metadata": {},
   "source": [
    "6)CodelandUsernameValidation(str) take the str parameter being passed and determine if the string is a valid username according to the following rules:\n",
    "\n",
    "1. The username is between 4 and 25 characters.\n",
    "2. It must start with a letter.\n",
    "3. It can only contain letters, numbers, and the underscore character.\n",
    "4. It cannot end with an underscore character.\n",
    "\n",
    "If the username is valid then your program should return the string true, otherwise return the string false.\n",
    "Examples\n",
    "\n",
    "Input: \"aa_\"\n",
    "\n",
    "Output: false\n",
    "\n",
    "Input: \"u__hello_world123\"\n",
    "\n",
    "Output: true"
   ]
  },
  {
   "cell_type": "code",
   "execution_count": 220,
   "id": "fd0db7ed",
   "metadata": {},
   "outputs": [
    {
     "name": "stdout",
     "output_type": "stream",
     "text": [
      "True\n"
     ]
    }
   ],
   "source": [
    "def CodelandUsernameValidation(t):\n",
    "    if len(t)>=4 and len(t)<=25:\n",
    "        if t[-1]!='_' and t[0].isalpha():\n",
    "            for i in t:\n",
    "                if i.isalnum() or i=='_!\"£$%6=?':\n",
    "                    return True\n",
    "                else:\n",
    "                    return False\n",
    "        else:\n",
    "            return False\n",
    "    else:\n",
    "        return False\n",
    "    \n",
    "\n",
    "                    \n",
    "t= \"a1__!£$123_a\"                    \n",
    "print(CodelandUsernameValidation(t))"
   ]
  },
  {
   "cell_type": "markdown",
   "id": "29243961",
   "metadata": {},
   "source": [
    "7) #Li1\n",
    "#WAP to remove empty strings from the list of strings. Take list as input from the user.\n",
    "\n",
    "#For example: Input: [\"My\", \"name\", \"\", \"is\", \"\", \"Alankrita\", \"\", \".\"]\n",
    "     #       Output: [\"My\", \"name\", \"is\", \"Alankrita\", \".\"]"
   ]
  },
  {
   "cell_type": "code",
   "execution_count": 221,
   "id": "bdd644ba",
   "metadata": {},
   "outputs": [
    {
     "data": {
      "text/plain": [
       "['My', 'name', 'is', 'Alankrita', '.']"
      ]
     },
     "execution_count": 221,
     "metadata": {},
     "output_type": "execute_result"
    }
   ],
   "source": [
    "c= [\"My\", \"name\", \"\", \"is\", \"\", \"Alankrita\", \"\", \".\"] \n",
    "c1=[]\n",
    "for i in c:\n",
    "    if i not in c1 and i!=\"\":\n",
    "        c1.append(i)\n",
    "c1"
   ]
  },
  {
   "cell_type": "markdown",
   "id": "94119b50",
   "metadata": {},
   "source": [
    "8) #Li2\n",
    "#WAP to make a list of all the characters starting from character 'A' to the input character from the user.\n",
    "\n",
    "#For e.g. Input: 'H'\n",
    " #Output: [\"A\", \"B\", \"C\", \"D\", \"E\", \"F\", \"G\", \"H\"]"
   ]
  },
  {
   "cell_type": "code",
   "execution_count": 238,
   "id": "7eca12d1",
   "metadata": {},
   "outputs": [
    {
     "data": {
      "text/plain": [
       "['A', 'B', 'C', 'D', 'E', 'F', 'G', 'H']"
      ]
     },
     "execution_count": 238,
     "metadata": {},
     "output_type": "execute_result"
    }
   ],
   "source": [
    "\n",
    "d1=[]\n",
    "for s in range(ord('A'),ord('I')):\n",
    "    d1.append(chr(s))\n",
    "d1\n"
   ]
  },
  {
   "cell_type": "markdown",
   "id": "0e7b4da9",
   "metadata": {},
   "source": [
    "9)Li4\n",
    "#Write a python program to find the maximum and minimum number in a list of 10 elements \n",
    "#(taken as input from the user) and also find the index position of the these numbers.\n",
    "    \n",
    "  #For example: Input : [25, 2, 1, 86, 42, 32, 27, 12, 31, 10]\n",
    "#Output: Max Number: 86, Index of Max Number: 3\n",
    "#Min Number: 1, Index of Min Number: 2"
   ]
  },
  {
   "cell_type": "code",
   "execution_count": 240,
   "id": "14bacc3b",
   "metadata": {},
   "outputs": [
    {
     "name": "stdout",
     "output_type": "stream",
     "text": [
      "86\n",
      "1\n",
      "2\n"
     ]
    }
   ],
   "source": [
    "e=[25, 2, 1, 86, 42, 32, 27, 12, 31, 10] \n",
    "print(max(e))\n",
    "e1=min(e)\n",
    "print(min(e))\n",
    "print(e.index(e1))"
   ]
  },
  {
   "cell_type": "markdown",
   "id": "3e961e22",
   "metadata": {},
   "source": [
    "10)#Li5\n",
    "#Given two Python lists of same length. Iterate both lists simultaneously such that list1 \n",
    "  #should display item in original order and list2 in reverse order.\n",
    "    \n",
    "  #For example: Input = list1 = [10, 20, 30, 40]\n",
    "#list2 = [100, 200, 300, 400]\n",
    " #Output: 10 400\n",
    " #20 300\n",
    " #30 200"
   ]
  },
  {
   "cell_type": "code",
   "execution_count": 248,
   "id": "e7681303",
   "metadata": {},
   "outputs": [
    {
     "name": "stdout",
     "output_type": "stream",
     "text": [
      "20 100\n",
      "20 200\n",
      "20 300\n",
      "20 400\n"
     ]
    }
   ],
   "source": [
    "f1=[10, 20, 30, 40] \n",
    "f2=[100, 200, 300, 400]\n",
    "\n",
    "for i in range(len(f1)):\n",
    "    print(f1[1],f2[i])\n",
    "\n",
    "    \n",
    "    "
   ]
  },
  {
   "cell_type": "markdown",
   "id": "4a0f67e0",
   "metadata": {},
   "source": [
    "11)#Li6\n",
    "#WAP to concatenate two lists index-wise.\n",
    "#list1 = [\"M\", \"na\", \"i\", \"Ashu\"]\n",
    "#list2 = [\"y\", \"me\", \"s\", \"tosh\"]\n",
    "#Output: ['My', 'name', 'is', 'Ashutosh']\n"
   ]
  },
  {
   "cell_type": "code",
   "execution_count": 1,
   "id": "9235aaf1",
   "metadata": {},
   "outputs": [
    {
     "data": {
      "text/plain": [
       "['My', 'name', 'is', 'Ashutosh']"
      ]
     },
     "execution_count": 1,
     "metadata": {},
     "output_type": "execute_result"
    }
   ],
   "source": [
    "g1= [\"M\", \"na\", \"i\", \"Ashu\"]\n",
    "g2=[\"y\", \"me\", \"s\", \"tosh\"]\n",
    "g3=[]\n",
    "\n",
    "for i in range(len(g1)):\n",
    "    g3.append(g1[i]+g2[i])\n",
    "g3\n",
    "    "
   ]
  },
  {
   "cell_type": "markdown",
   "id": "45a47ca6",
   "metadata": {},
   "source": [
    "12)#S2\n",
    "#Write a Python program to find the digits which are absent in a given mobile number.\n",
    "\n",
    "  #For example: Input : 9354328855\n",
    "    #Output: 0167"
   ]
  },
  {
   "cell_type": "code",
   "execution_count": 17,
   "id": "b0ebd098",
   "metadata": {},
   "outputs": [
    {
     "data": {
      "text/plain": [
       "[0, 1, 6, 7]"
      ]
     },
     "execution_count": 17,
     "metadata": {},
     "output_type": "execute_result"
    }
   ],
   "source": [
    "h1='9354328855'\n",
    "h2=[]\n",
    "h3=[]\n",
    "h4=[]\n",
    "h5=[]\n",
    "for i in range(len(h1)):\n",
    "    for j in h1[i]:\n",
    "        h2.append(j)\n",
    "for i in h2:\n",
    "    h3.append(int(i))\n",
    "for i in range(0,10):\n",
    "    h4.append(i)\n",
    "for i in h4:\n",
    "    if i not in h3:\n",
    "        h5.append(i)\n",
    "h5"
   ]
  },
  {
   "cell_type": "markdown",
   "id": "476510a3",
   "metadata": {},
   "source": [
    "13)#S4\n",
    "#WAP in python that accepts a hyphen-separated sequence of \n",
    "#alphabets as input and prints the words in a hyphen-separated \n",
    "#sequence after sorting them alphabetically.\n",
    "\n",
    "#For e.g. Input: \"p-y-t-h-o-n\"\n",
    " #Output: ['h', 'n','o', 'p', 't', 'y']"
   ]
  },
  {
   "cell_type": "code",
   "execution_count": 21,
   "id": "c0acea0c",
   "metadata": {},
   "outputs": [
    {
     "data": {
      "text/plain": [
       "['h', 'n', 'o', 'p', 't', 'y']"
      ]
     },
     "execution_count": 21,
     "metadata": {},
     "output_type": "execute_result"
    }
   ],
   "source": [
    "s1= \"p-y-t-h-o-n\"\n",
    "s2=s1.split('-')\n",
    "s2.sort()\n",
    "s2"
   ]
  },
  {
   "cell_type": "markdown",
   "id": "dcc780cd",
   "metadata": {},
   "source": [
    "14)#S5\n",
    "#WAP in python to find the number of vowels, consonants, digits, special \n",
    "#characters and white space characters in a string input by the user.\n",
    "\n",
    "#Example: Input: \"Qwerty@123\"\n",
    "#output: v = 1, c = 5, d = 3, w = 0, s = 1"
   ]
  },
  {
   "cell_type": "code",
   "execution_count": 29,
   "id": "098b3690",
   "metadata": {},
   "outputs": [
    {
     "name": "stdout",
     "output_type": "stream",
     "text": [
      "1\n",
      "5\n",
      "3\n",
      "1\n"
     ]
    }
   ],
   "source": [
    "i1=\"Qwerty@123\"\n",
    "vowels=0\n",
    "conso=0\n",
    "digits=0\n",
    "special=0\n",
    "\n",
    "i2=['a','e','i','o','u']\n",
    "i3='@8&^%$?><./,+-='\n",
    "i4=[]\n",
    "for i in range(len(i3)):\n",
    "    for j in i3[i]:\n",
    "        i4.append(j)\n",
    "        \n",
    "        \n",
    "\n",
    "\n",
    "for i in i1:\n",
    "    if i.isdigit():\n",
    "        digits+=1\n",
    "    elif i.lower() in i2:\n",
    "        vowels+=1\n",
    "    elif i in i4:\n",
    "        special+=1\n",
    "    else:\n",
    "        conso+=1\n",
    "\n",
    "print(vowels)\n",
    "print(conso)\n",
    "print(digits)\n",
    "print(special)"
   ]
  },
  {
   "cell_type": "markdown",
   "id": "851b0633",
   "metadata": {},
   "source": [
    "15)\n",
    "#Li10 Given two lists having names of students and their corrsponding marks. names = [\"Ashutosh\", \"Ajay\", \"Alankrita\", \"Rachit\", \"Komal\", \"Anil\"] marks = [23, 21, 26, 23, 27, 24] Take name of a student as input from the user and output his/her marks.\n",
    "\n",
    "For e.g.: Input1: \"Alankrita\" Output1: 26\n",
    "\n",
    "Input2: \"Someone\"\n",
    "Output2: \"Student not found\"\n",
    "\n",
    "#Li11\n",
    "#Extended question of #Li10\n",
    "#Add an option to change marks of any students in the same code of #Li10. Take student name and new marks from the user. \n",
    "#Print the modified list as output.\n",
    "\n",
    "#For e.g.: Input: \"Ajay\"\n",
    "       ## new_mark: 25\n",
    "       # Output: marks = [23, 25, 26, 23, 27, 24]"
   ]
  },
  {
   "cell_type": "code",
   "execution_count": 60,
   "id": "8110506a",
   "metadata": {},
   "outputs": [
    {
     "name": "stdout",
     "output_type": "stream",
     "text": [
      "enter y to change student marks or n to display marks: y\n",
      "enter the name to change the marks: ajay\n",
      "enter the new marks: 90\n",
      "{'Ashutosh': 23, 'Ajay': 90, 'Alankrita': 26, 'Rachit': 23, 'Komal': 27, 'Anil': 24}\n"
     ]
    }
   ],
   "source": [
    "names=[\"Ashutosh\", \"Ajay\", \"Alankrita\", \"Rachit\", \"Komal\", \"Anil\"]\n",
    "marks=[23, 21, 26, 23, 27, 24]\n",
    "res=dict(zip(names,marks))\n",
    "\n",
    "input_y_n=input('enter y to change student marks or n to display marks: ')\n",
    "\n",
    "if input_y_n.lower()=='y':\n",
    "    input1=input('enter the name to change the marks: ')\n",
    "    for k,v in res.items():\n",
    "        if k.lower()==input1:\n",
    "            updated_marks=int(input('enter the new marks: '))\n",
    "            res[k]=updated_marks\n",
    "    print(res)\n",
    "    \n",
    "    \n",
    "    \n",
    "elif input_y_n.lower()=='n':\n",
    "    m=''\n",
    "    input2=input('enter the name: ')\n",
    "    for k,v in res.items():\n",
    "        if k.lower()==input2:\n",
    "            m=v\n",
    "    \n",
    "    if m in marks:\n",
    "        print(m)\n",
    "    else: \n",
    "        print('name not found')"
   ]
  },
  {
   "cell_type": "markdown",
   "id": "9b1d4fcd",
   "metadata": {},
   "source": [
    "16)#D1\n",
    "#WAP in Python to merge following dictionaries to create a new one:\n",
    "#dic1={1:10, 2:20}\n",
    "#dic2={3:30, 4:40}\n",
    "#dic3={5:50, 6:60}"
   ]
  },
  {
   "cell_type": "code",
   "execution_count": 63,
   "id": "67920aa0",
   "metadata": {},
   "outputs": [
    {
     "data": {
      "text/plain": [
       "{1: 10, 2: 20, 3: 30, 4: 40, 5: 50, 6: 60}"
      ]
     },
     "execution_count": 63,
     "metadata": {},
     "output_type": "execute_result"
    }
   ],
   "source": [
    "j1={1:10, 2:20}\n",
    "j2={3:30, 4:40}\n",
    "j3={5:50, 6:60}\n",
    "\n",
    "j1.update(j2)\n",
    "j1.update(j3)\n",
    "j1"
   ]
  },
  {
   "cell_type": "markdown",
   "id": "353bcb3d",
   "metadata": {},
   "source": [
    "17)#Write a Python program to convert all the cases from lower to uppercase and upper to lowercase \n",
    "  #and eliminate duplicate letters from a given sequence. \n",
    "#i/p: ['a', 'b', 'E', 'f', 'a', 'i', 'o', 'U', 'a']\n",
    "#o/p: ['A', 'B', 'e', 'F', 'I', 'O', 'u']"
   ]
  },
  {
   "cell_type": "code",
   "execution_count": 65,
   "id": "cde36bc2",
   "metadata": {},
   "outputs": [
    {
     "data": {
      "text/plain": [
       "['A', 'B', 'e', 'F', 'A', 'I', 'O', 'u', 'A']"
      ]
     },
     "execution_count": 65,
     "metadata": {},
     "output_type": "execute_result"
    }
   ],
   "source": [
    "k=['a', 'b', 'E', 'f', 'a', 'i', 'o', 'U', 'a']\n",
    "k1=[]\n",
    "for i in k:\n",
    "    if i.islower():\n",
    "        k1.append(i.upper())\n",
    "    elif i.isupper():\n",
    "        k1.append(i.lower())\n",
    "k1"
   ]
  },
  {
   "cell_type": "markdown",
   "id": "e0129e91",
   "metadata": {},
   "source": [
    "18)# For a given list of values in descending order, write a method in python to search \n",
    "#for a value with the help of Binary Search method. \n",
    "#The method should return position of the value and should return -1 if the value not present in the list."
   ]
  },
  {
   "cell_type": "code",
   "execution_count": 37,
   "id": "8ecd6681",
   "metadata": {},
   "outputs": [
    {
     "name": "stdout",
     "output_type": "stream",
     "text": [
      "enter the number: 90\n",
      "[10, 27, 29, 29, 78, 80]\n",
      "-1\n"
     ]
    }
   ],
   "source": [
    "def acending(l):\n",
    "    for i in range(len(l)):\n",
    "        for j in range(i,len(l)):\n",
    "            if l[i]>l[j]:\n",
    "                l[i],l[j]=l[j],l[i]\n",
    "                \n",
    "def char_pos(n):\n",
    "    for i in l:\n",
    "        if i==n:\n",
    "            return l.index(i)\n",
    "    return '-1'\n",
    "        \n",
    "        \n",
    "        \n",
    "            \n",
    "l=[10,29,29,27,80,78] \n",
    "acending(l)\n",
    "n=int(input('enter the number: '))\n",
    "print(l)\n",
    "print(char_pos(n))\n"
   ]
  },
  {
   "cell_type": "markdown",
   "id": "8fda67c7",
   "metadata": {},
   "source": [
    "19)# Write a function in python to find the sum of the cube of elements in a list. \n",
    "#The list is received as an argument to the function, in turn, the function must return the sum. \n",
    "#Write the main function which invokes the above function."
   ]
  },
  {
   "cell_type": "code",
   "execution_count": 94,
   "id": "18e2b9d1",
   "metadata": {},
   "outputs": [
    {
     "name": "stdout",
     "output_type": "stream",
     "text": [
      "1800\n"
     ]
    }
   ],
   "source": [
    "\n",
    "def cube(m):\n",
    "    m1=[]\n",
    "    for i in m:\n",
    "        i=i**3\n",
    "        m1.append(i)\n",
    "    return sum(m1)\n",
    "\n",
    "\n",
    "m=[2,4,6,8,10]\n",
    "print(cube(m))\n",
    "\n"
   ]
  },
  {
   "cell_type": "markdown",
   "id": "184b0ad6",
   "metadata": {},
   "source": [
    "20)#Initialize a dictionary \"emp_info\" with below details\n",
    "#In - emp_info['Tom']\n",
    "#Out - {'email':'tom_latham019@gmail.com', 'Phone': +1987654321, 'City': 'California'}\n",
    "\n",
    "#In - emp_info['Kathy']\n",
    "#Out - {'email':'kathy_abram897@gmail.com', 'Phone': +1887654321, 'City': 'New York'}"
   ]
  },
  {
   "cell_type": "code",
   "execution_count": 97,
   "id": "dc28ace4",
   "metadata": {},
   "outputs": [
    {
     "data": {
      "text/plain": [
       "{'email': 'tom_latham019@gmail.com', 'Phone': 1987654321, 'City': 'California'}"
      ]
     },
     "execution_count": 97,
     "metadata": {},
     "output_type": "execute_result"
    }
   ],
   "source": [
    "d={'Tom':{'emaim1l':'tom_latham019@gmail.com', 'Phone': +1987654321, 'City': 'California'},\n",
    "  'Cathy':{'email':'kathy_abram897@gmail.com', 'Phone': +1887654321, 'City': 'New York'}}\n",
    "d['Tom']\n"
   ]
  },
  {
   "cell_type": "markdown",
   "id": "9bb322bd",
   "metadata": {},
   "source": [
    "21)##Have the function ABCheck(str) take the str parameter being passed and return the string true if the \n",
    "##characters a and b are separated by exactly 3 places anywhere in the string at least once \n",
    "##(ie. \"lane borrowed\" would result in true because there is exactly three characters between a and b).\n",
    "##Otherwise return the string false."
   ]
  },
  {
   "cell_type": "code",
   "execution_count": 12,
   "id": "933fb697",
   "metadata": {},
   "outputs": [
    {
     "name": "stdout",
     "output_type": "stream",
     "text": [
      "true\n"
     ]
    }
   ],
   "source": [
    "m1=\"lane borrowed\"\n",
    "\n",
    "if m1.index('a')-m1.index('b')==4 or m1.index('b')-m1.index('a')==4:\n",
    "    print('true')\n",
    "else:\n",
    "    print('false')\n",
    "        "
   ]
  },
  {
   "cell_type": "markdown",
   "id": "3efea723",
   "metadata": {},
   "source": [
    "22)#Create a dictionary out of below inputs\n",
    "#lst1 = ['emp1', 'emp2', 'emp3']\n",
    "#emp_key = ['e_name', 'e_id', 'e_sal']\n",
    "#emp1_val = ['John', 'SG101', '$10,000']\n",
    "#emp2_val = ['Smith', 'SG102', '$9,000']\n",
    "#emp3_val = ['Peter', 'SG103', '$9,500']\n",
    "\n",
    "#Expected Output:- {'emp1':{'e_name':'John', 'e_id':'SG101', 'e_sal':$10,000}, \n",
    "#'emp2':{'e_name':'Smith', 'e_id':'SG102', 'e_sal':$9,000}, "
   ]
  },
  {
   "cell_type": "code",
   "execution_count": 19,
   "id": "f99bdf15",
   "metadata": {},
   "outputs": [
    {
     "data": {
      "text/plain": [
       "{'emp1': {'e_name': 'John', 'e_id': 'SG101', 'e_sal': '$10,000'},\n",
       " 'emp2': {'e_name': 'Smith', 'e_id': 'SG102', 'e_sal': '$9,000'},\n",
       " 'emp3': {'e_name': 'Peter', 'e_id': 'SG103', 'e_sal': '$9,500'}}"
      ]
     },
     "execution_count": 19,
     "metadata": {},
     "output_type": "execute_result"
    }
   ],
   "source": [
    "lst1 = ['emp1', 'emp2', 'emp3']\n",
    "emp_key = ['e_name', 'e_id', 'e_sal']\n",
    "emp1_val = ['John', 'SG101', '$10,000']\n",
    "emp2_val = ['Smith', 'SG102', '$9,000']\n",
    "emp3_val = ['Peter', 'SG103', '$9,500']\n",
    "m1=[emp1_val,emp2_val,emp3_val]\n",
    "\n",
    "\n",
    "res1=[dict(zip(emp_key,i)) for i in m1]\n",
    "res2=dict(zip(lst1,res1))\n",
    "res2"
   ]
  },
  {
   "cell_type": "markdown",
   "id": "e8d46515",
   "metadata": {},
   "source": [
    "23)#2. Write a Python script to add a key to a dictionary.\n",
    "\n",
    "#Sample Dictionary : {0: 10, 1: 20}\n",
    "#Expected Result : {0: 10, 1: 20, 2: 30}"
   ]
  },
  {
   "cell_type": "code",
   "execution_count": 22,
   "id": "e505e2fb",
   "metadata": {},
   "outputs": [
    {
     "data": {
      "text/plain": [
       "{0: 10, 1: 20, 2: 30}"
      ]
     },
     "execution_count": 22,
     "metadata": {},
     "output_type": "execute_result"
    }
   ],
   "source": [
    "d11={0: 10, 1: 20}\n",
    "d11[2]=30\n",
    "d11\n",
    "d11[2]."
   ]
  },
  {
   "cell_type": "markdown",
   "id": "9660512e",
   "metadata": {},
   "source": [
    "24)#get this pattern\n",
    "#1\n",
    "#1 2\n",
    "#1 2 3\n",
    "#1 2 3 4\n",
    "\n",
    "\n"
   ]
  },
  {
   "cell_type": "code",
   "execution_count": 53,
   "id": "3833afad",
   "metadata": {},
   "outputs": [
    {
     "name": "stdout",
     "output_type": "stream",
     "text": [
      "enter the number: 3\n",
      "1\n",
      "12\n",
      "123\n"
     ]
    }
   ],
   "source": [
    "n1=int(input('enter the number: '))\n",
    "for i in range(1,n1+1):\n",
    "    for j in range(1,i+1):\n",
    "        print(j, end='')\n",
    "    print()\n",
    " "
   ]
  },
  {
   "cell_type": "markdown",
   "id": "a7194280",
   "metadata": {},
   "source": [
    "25)#randomey arrange numbers from 1 to 10"
   ]
  },
  {
   "cell_type": "code",
   "execution_count": 64,
   "id": "4036bbcb",
   "metadata": {},
   "outputs": [
    {
     "name": "stdout",
     "output_type": "stream",
     "text": [
      "[8, 10, 5, 7, 9, 3, 6, 4, 1, 2]\n"
     ]
    }
   ],
   "source": [
    "import random\n",
    "num=list(range(1,11))\n",
    "random.shuffle(num)\n",
    "\n",
    "print(num)\n"
   ]
  },
  {
   "cell_type": "markdown",
   "id": "86331584",
   "metadata": {},
   "source": [
    "# Numpy"
   ]
  },
  {
   "cell_type": "code",
   "execution_count": 65,
   "id": "af3eac1a",
   "metadata": {},
   "outputs": [
    {
     "name": "stdout",
     "output_type": "stream",
     "text": [
      "blas_mkl_info:\n",
      "    libraries = ['mkl_rt']\n",
      "    library_dirs = ['C:/Users/saura/anaconda3\\\\Library\\\\lib']\n",
      "    define_macros = [('SCIPY_MKL_H', None), ('HAVE_CBLAS', None)]\n",
      "    include_dirs = ['C:/Users/saura/anaconda3\\\\Library\\\\include']\n",
      "blas_opt_info:\n",
      "    libraries = ['mkl_rt']\n",
      "    library_dirs = ['C:/Users/saura/anaconda3\\\\Library\\\\lib']\n",
      "    define_macros = [('SCIPY_MKL_H', None), ('HAVE_CBLAS', None)]\n",
      "    include_dirs = ['C:/Users/saura/anaconda3\\\\Library\\\\include']\n",
      "lapack_mkl_info:\n",
      "    libraries = ['mkl_rt']\n",
      "    library_dirs = ['C:/Users/saura/anaconda3\\\\Library\\\\lib']\n",
      "    define_macros = [('SCIPY_MKL_H', None), ('HAVE_CBLAS', None)]\n",
      "    include_dirs = ['C:/Users/saura/anaconda3\\\\Library\\\\include']\n",
      "lapack_opt_info:\n",
      "    libraries = ['mkl_rt']\n",
      "    library_dirs = ['C:/Users/saura/anaconda3\\\\Library\\\\lib']\n",
      "    define_macros = [('SCIPY_MKL_H', None), ('HAVE_CBLAS', None)]\n",
      "    include_dirs = ['C:/Users/saura/anaconda3\\\\Library\\\\include']\n",
      "Supported SIMD extensions in this NumPy install:\n",
      "    baseline = SSE,SSE2,SSE3\n",
      "    found = SSSE3,SSE41,POPCNT,SSE42,AVX,F16C,FMA3,AVX2\n",
      "    not found = AVX512F,AVX512CD,AVX512_SKX,AVX512_CLX,AVX512_CNL\n",
      "None\n"
     ]
    }
   ],
   "source": [
    "#Write a Numpy program to get the Numpy version and show the Numpy build configuration.\n",
    "import numpy as np\n",
    "\n",
    "print(np.show_config())"
   ]
  },
  {
   "cell_type": "code",
   "execution_count": 70,
   "id": "d4b3048d",
   "metadata": {},
   "outputs": [
    {
     "name": "stdout",
     "output_type": "stream",
     "text": [
      "add(x1, x2, /, out=None, *, where=True, casting='same_kind', order='K', dtype=None, subok=True[, signature, extobj])\n",
      "\n",
      "Add arguments element-wise.\n",
      "\n",
      "Parameters\n",
      "----------\n",
      "x1, x2 : array_like\n",
      "    The arrays to be added.\n",
      "    If ``x1.shape != x2.shape``, they must be broadcastable to a common\n",
      "    shape (which becomes the shape of the output).\n",
      "out : ndarray, None, or tuple of ndarray and None, optional\n",
      "    A location into which the result is stored. If provided, it must have\n",
      "    a shape that the inputs broadcast to. If not provided or None,\n",
      "    a freshly-allocated array is returned. A tuple (possible only as a\n",
      "    keyword argument) must have length equal to the number of outputs.\n",
      "where : array_like, optional\n",
      "    This condition is broadcast over the input. At locations where the\n",
      "    condition is True, the `out` array will be set to the ufunc result.\n",
      "    Elsewhere, the `out` array will retain its original value.\n",
      "    Note that if an uninitialized `out` array is created via the default\n",
      "    ``out=None``, locations within it where the condition is False will\n",
      "    remain uninitialized.\n",
      "**kwargs\n",
      "    For other keyword-only arguments, see the\n",
      "    :ref:`ufunc docs <ufuncs.kwargs>`.\n",
      "\n",
      "Returns\n",
      "-------\n",
      "add : ndarray or scalar\n",
      "    The sum of `x1` and `x2`, element-wise.\n",
      "    This is a scalar if both `x1` and `x2` are scalars.\n",
      "\n",
      "Notes\n",
      "-----\n",
      "Equivalent to `x1` + `x2` in terms of array broadcasting.\n",
      "\n",
      "Examples\n",
      "--------\n",
      ">>> np.add(1.0, 4.0)\n",
      "5.0\n",
      ">>> x1 = np.arange(9.0).reshape((3, 3))\n",
      ">>> x2 = np.arange(3.0)\n",
      ">>> np.add(x1, x2)\n",
      "array([[  0.,   2.,   4.],\n",
      "       [  3.,   5.,   7.],\n",
      "       [  6.,   8.,  10.]])\n",
      "\n",
      "The ``+`` operator can be used as a shorthand for ``np.add`` on ndarrays.\n",
      "\n",
      ">>> x1 = np.arange(9.0).reshape((3, 3))\n",
      ">>> x2 = np.arange(3.0)\n",
      ">>> x1 + x2\n",
      "array([[ 0.,  2.,  4.],\n",
      "       [ 3.,  5.,  7.],\n",
      "       [ 6.,  8., 10.]])\n",
      "None\n"
     ]
    }
   ],
   "source": [
    "#Write a NumPy program to get help with the add function.\n",
    "print(np.info(np.add))"
   ]
  },
  {
   "cell_type": "code",
   "execution_count": 75,
   "id": "84c76dd8",
   "metadata": {},
   "outputs": [
    {
     "name": "stdout",
     "output_type": "stream",
     "text": [
      "True\n",
      "False\n"
     ]
    }
   ],
   "source": [
    "#Write a NumPy program to test whether none of the elements of a given array are zero. \n",
    "o1=np.arange(1,5)\n",
    "print(np.all(o1))\n",
    "\n",
    "o2=np.arange(0,4)\n",
    "print(np.all(o2))\n",
    "\n",
    "#returns true if there is no zeros, returns false if there is a zreo\n"
   ]
  },
  {
   "cell_type": "code",
   "execution_count": 77,
   "id": "38f7daf1",
   "metadata": {},
   "outputs": [
    {
     "name": "stdout",
     "output_type": "stream",
     "text": [
      "True\n",
      "False\n"
     ]
    }
   ],
   "source": [
    "#Write a NumPy program to test if any of the elements of a given array are non-zero.\n",
    "o3=np.array([1,0,0,0])\n",
    "print(np.any(o3))\n",
    "\n",
    "o4=np.array([0,0,0,0])\n",
    "print(np.any(o4))\n",
    "\n",
    "#returns true if there is aleast 1 non zero element else false all the elements are zero\n"
   ]
  },
  {
   "cell_type": "code",
   "execution_count": 79,
   "id": "f32aff28",
   "metadata": {},
   "outputs": [
    {
     "name": "stdout",
     "output_type": "stream",
     "text": [
      "[ True  True False]\n"
     ]
    }
   ],
   "source": [
    "#Write a NumPy program to test a given array element-wise for finiteness (not infinity or not a number).\n",
    "\n",
    "o5=np.array([1,2,np.nan])\n",
    "\n",
    "print(np.isfinite(o5))\n"
   ]
  },
  {
   "cell_type": "code",
   "execution_count": 84,
   "id": "d03376ea",
   "metadata": {},
   "outputs": [
    {
     "data": {
      "text/plain": [
       "(2, 4)"
      ]
     },
     "execution_count": 84,
     "metadata": {},
     "output_type": "execute_result"
    }
   ],
   "source": [
    "# finding out the shape of an array\n",
    "arr = [[1,2,3,4],[4,5,6,7]]\n",
    "ar=np.array(arr)\n",
    "np.shape(ar)"
   ]
  },
  {
   "cell_type": "code",
   "execution_count": 86,
   "id": "a3a9ee4a",
   "metadata": {},
   "outputs": [
    {
     "data": {
      "text/plain": [
       "array([10,  8,  6,  4,  2,  0])"
      ]
     },
     "execution_count": 86,
     "metadata": {},
     "output_type": "execute_result"
    }
   ],
   "source": [
    "#reverse in numpy\n",
    "ar1=np.arange(0,12,2)\n",
    "ar1[::-1]"
   ]
  },
  {
   "cell_type": "code",
   "execution_count": 91,
   "id": "350c8827",
   "metadata": {},
   "outputs": [
    {
     "name": "stdout",
     "output_type": "stream",
     "text": [
      "[4 2 2 3 0 0 0 0 1]\n"
     ]
    }
   ],
   "source": [
    "#How do you count the frequency of a given positive value appearing in the NumPy array?\n",
    "ar2=np.array([1,2,0,0,0,0,3,3,3,1,2,8])\n",
    "\n",
    "result=np.bincount(ar2)\n",
    "print(result)"
   ]
  },
  {
   "cell_type": "code",
   "execution_count": 105,
   "id": "2cb0f76d",
   "metadata": {},
   "outputs": [
    {
     "data": {
      "text/plain": [
       "0"
      ]
     },
     "execution_count": 105,
     "metadata": {},
     "output_type": "execute_result"
    }
   ],
   "source": [
    "#How do we check for an empty array (or zero elements array)?\n",
    "ar3=np.zeros((1,0))\n",
    "ar3.size"
   ]
  },
  {
   "cell_type": "code",
   "execution_count": 116,
   "id": "ee08bdda",
   "metadata": {},
   "outputs": [
    {
     "name": "stdout",
     "output_type": "stream",
     "text": [
      "[1 5]\n",
      "\n",
      " [[1]\n",
      " [5]]\n"
     ]
    }
   ],
   "source": [
    "#How is arr[:,0] different from arr[:,[0]]\n",
    "ar4 = np.array([[1,2,3,4],[5,6,7,8]])\n",
    "print(ar4[:,0])\n",
    "print('\\n',ar4[:,[0]])"
   ]
  },
  {
   "cell_type": "code",
   "execution_count": 121,
   "id": "4cd65e72",
   "metadata": {},
   "outputs": [
    {
     "name": "stdout",
     "output_type": "stream",
     "text": [
      "1st array:  [[10 11 12]\n",
      " [13 14 15]\n",
      " [16 17 18]]\n",
      "2nd array:  [[0 1 2]\n",
      " [3 4 5]\n",
      " [6 7 8]]\n"
     ]
    },
    {
     "data": {
      "text/plain": [
       "array([[105, 138, 171],\n",
       "       [132, 174, 216],\n",
       "       [159, 210, 261]])"
      ]
     },
     "execution_count": 121,
     "metadata": {},
     "output_type": "execute_result"
    }
   ],
   "source": [
    "# multiplying 2 elements in array\n",
    "\n",
    "arr1=np.arange(10,19).reshape(3,3)\n",
    "arr2=np.arange(0,9).reshape(3,3)\n",
    "\n",
    "print('1st array: ', arr1)\n",
    "print('2nd array: ', arr2)\n",
    "\n",
    "res1=arr1.dot(arr2)\n",
    "res1"
   ]
  },
  {
   "cell_type": "code",
   "execution_count": 12,
   "id": "4bc79b9e",
   "metadata": {},
   "outputs": [
    {
     "data": {
      "text/plain": [
       "array([[1, 2],\n",
       "       [3, 4],\n",
       "       [5, 6]])"
      ]
     },
     "execution_count": 12,
     "metadata": {},
     "output_type": "execute_result"
    }
   ],
   "source": [
    "import numpy as np\n",
    "arr3=np.array([[1,2],[3,4]])\n",
    "arr4=np.array([[5,6]])\n",
    "\n",
    "c=np.concatenate((arr3,arr4),axis=0)\n",
    "c"
   ]
  },
  {
   "cell_type": "code",
   "execution_count": 16,
   "id": "e2c4d6e6",
   "metadata": {},
   "outputs": [
    {
     "data": {
      "text/plain": [
       "array([[1, 2, 5],\n",
       "       [3, 4, 6]])"
      ]
     },
     "execution_count": 16,
     "metadata": {},
     "output_type": "execute_result"
    }
   ],
   "source": [
    "import numpy as np\n",
    "arr3=np.array([[1,2],[3,4]])\n",
    "arr4=np.array([[5,6]])\n",
    "\n",
    "c=np.concatenate((arr3,arr4.T),axis=1)\n",
    "c"
   ]
  },
  {
   "cell_type": "code",
   "execution_count": null,
   "id": "39ecf7d9",
   "metadata": {},
   "outputs": [],
   "source": [
    "arr = np.array(['i', 'love', 'NumPy', 'AND', 'interviewbit'], dtype=str)\n",
    "\n",
    "upper="
   ]
  },
  {
   "cell_type": "code",
   "execution_count": 1,
   "id": "131900a7",
   "metadata": {},
   "outputs": [
    {
     "name": "stdout",
     "output_type": "stream",
     "text": [
      "John#Peter#Vicky\n"
     ]
    }
   ],
   "source": [
    "myTuple = (\"John\", \"Peter\", \"Vicky\")\n",
    "\n",
    "x = \"#\".join(myTuple)\n",
    "\n",
    "print(x)"
   ]
  },
  {
   "cell_type": "code",
   "execution_count": 4,
   "id": "612b1707",
   "metadata": {},
   "outputs": [
    {
     "name": "stdout",
     "output_type": "stream",
     "text": [
      "['Thank you for the music', 'Welcome to the jungle']\n"
     ]
    }
   ],
   "source": [
    "txt = \"Thank you for the music\\nWelcome to the jungle\"\n",
    "\n",
    "x = txt.splitlines()\n",
    "\n",
    "print(x)"
   ]
  },
  {
   "cell_type": "code",
   "execution_count": 2,
   "id": "71ec25d4",
   "metadata": {},
   "outputs": [
    {
     "name": "stdout",
     "output_type": "stream",
     "text": [
      "3\n",
      "4\n",
      "5\n"
     ]
    }
   ],
   "source": [
    "a=[3,4,5]\n",
    "for i in a:\n",
    "    print(i)"
   ]
  },
  {
   "cell_type": "code",
   "execution_count": 3,
   "id": "1c44a0f3",
   "metadata": {},
   "outputs": [
    {
     "name": "stdout",
     "output_type": "stream",
     "text": [
      "1\n",
      "2\n"
     ]
    }
   ],
   "source": [
    "x=3\n",
    "y=1\n",
    "while(y!=x):\n",
    "    print(y)\n",
    "    y=y+1"
   ]
  },
  {
   "cell_type": "code",
   "execution_count": 5,
   "id": "89e1b8d8",
   "metadata": {},
   "outputs": [
    {
     "data": {
      "text/plain": [
       "11"
      ]
     },
     "execution_count": 5,
     "metadata": {},
     "output_type": "execute_result"
    }
   ],
   "source": [
    "a=1\n",
    "\n",
    "def add(b):\n",
    "    return a+b\n",
    "\n",
    "c=add(10)\n",
    "c"
   ]
  },
  {
   "cell_type": "code",
   "execution_count": 15,
   "id": "423f415c",
   "metadata": {},
   "outputs": [
    {
     "ename": "TypeError",
     "evalue": "__main__.f() argument after * must be an iterable, not int",
     "output_type": "error",
     "traceback": [
      "\u001b[1;31m---------------------------------------------------------------------------\u001b[0m",
      "\u001b[1;31mTypeError\u001b[0m                                 Traceback (most recent call last)",
      "\u001b[1;32m~\\AppData\\Local\\Temp\\ipykernel_47800\\1908268089.py\u001b[0m in \u001b[0;36m<module>\u001b[1;34m\u001b[0m\n\u001b[0;32m      2\u001b[0m     \u001b[1;32mreturn\u001b[0m \u001b[0msum\u001b[0m\u001b[1;33m(\u001b[0m\u001b[0mx\u001b[0m\u001b[1;33m)\u001b[0m\u001b[1;33m\u001b[0m\u001b[1;33m\u001b[0m\u001b[0m\n\u001b[0;32m      3\u001b[0m \u001b[1;33m\u001b[0m\u001b[0m\n\u001b[1;32m----> 4\u001b[1;33m \u001b[0mc\u001b[0m\u001b[1;33m=\u001b[0m\u001b[0mf\u001b[0m\u001b[1;33m(\u001b[0m\u001b[1;33m*\u001b[0m\u001b[1;36m6\u001b[0m\u001b[1;33m)\u001b[0m\u001b[1;33m\u001b[0m\u001b[1;33m\u001b[0m\u001b[0m\n\u001b[0m\u001b[0;32m      5\u001b[0m \u001b[0mc\u001b[0m\u001b[1;33m\u001b[0m\u001b[1;33m\u001b[0m\u001b[0m\n",
      "\u001b[1;31mTypeError\u001b[0m: __main__.f() argument after * must be an iterable, not int"
     ]
    }
   ],
   "source": [
    "def f(*x):\n",
    "    return sum(x)\n",
    "\n",
    "c=f(*6)\n",
    "c"
   ]
  },
  {
   "cell_type": "code",
   "execution_count": 23,
   "id": "e5c2c05f",
   "metadata": {},
   "outputs": [
    {
     "name": "stdout",
     "output_type": "stream",
     "text": [
      "8\n"
     ]
    }
   ],
   "source": [
    "class Calculator:\n",
    "    def add(self,a,b):\n",
    "        return a+b\n",
    "    def sub(self,a,b):\n",
    "        return a-b\n",
    "    def mul(selfa,b):\n",
    "        return a*b\n",
    "    def div(self,a,b):\n",
    "        return a/b\n",
    "    \n",
    "# Create an instance of the Calculator class\n",
    "calc = Calculator()\n",
    "\n",
    "# Call the add method with two arguments\n",
    "result = calc.add(5, 3)\n",
    "\n",
    "# Print the result\n",
    "print(result)  # Output: 8\n"
   ]
  },
  {
   "cell_type": "code",
   "execution_count": 24,
   "id": "f1b103a2",
   "metadata": {},
   "outputs": [],
   "source": [
    "class Circle(object):\n",
    "    \n",
    "    # Constructor\n",
    "    def __init__(self, radius=3, color='blue'):\n",
    "        self.radius = radius\n",
    "        self.color = color \n",
    "    \n",
    "    # Method\n",
    "    def add_radius(self, r):\n",
    "        self.radius = self.radius + r\n",
    "        return(self.radius)\n",
    "    \n",
    "    # Method\n",
    "    def drawCircle(self):\n",
    "        plt.gca().add_patch(plt.Circle((0, 0), radius=self.radius, fc=self.color))\n",
    "        plt.axis('scaled')\n",
    "        plt.show()  "
   ]
  },
  {
   "cell_type": "code",
   "execution_count": 26,
   "id": "dda88428",
   "metadata": {},
   "outputs": [
    {
     "name": "stdout",
     "output_type": "stream",
     "text": [
      "Hi\n",
      "Mike\n"
     ]
    }
   ],
   "source": [
    "x=1\n",
    "\n",
    "if(x!=1):\n",
    "\n",
    "    print('Hello')\n",
    "\n",
    "else:\n",
    "\n",
    "    print('Hi')\n",
    "\n",
    "print('Mike')"
   ]
  },
  {
   "cell_type": "code",
   "execution_count": 27,
   "id": "15c9fbfc",
   "metadata": {},
   "outputs": [
    {
     "name": "stdout",
     "output_type": "stream",
     "text": [
      "11\n",
      "22\n",
      "33\n"
     ]
    }
   ],
   "source": [
    "A = ['1','2','3']\n",
    "\n",
    "for a in A:\n",
    "\n",
    "    print(2*a)"
   ]
  },
  {
   "cell_type": "code",
   "execution_count": 30,
   "id": "36277970",
   "metadata": {},
   "outputs": [
    {
     "name": "stdout",
     "output_type": "stream",
     "text": [
      "1\n"
     ]
    }
   ],
   "source": [
    "def Delta(x):\n",
    "\n",
    "    if x==0:\n",
    "\n",
    "        y=1\n",
    "\n",
    "    else:\n",
    "\n",
    "        y=0\n",
    "\n",
    "    return(y)\n",
    "print(Delta(0))"
   ]
  },
  {
   "cell_type": "code",
   "execution_count": 39,
   "id": "c6ab97f0",
   "metadata": {},
   "outputs": [
    {
     "data": {
      "text/plain": [
       "{1}"
      ]
     },
     "execution_count": 39,
     "metadata": {},
     "output_type": "execute_result"
    }
   ],
   "source": [
    "l=[1,2]\n",
    "a=set(l)\n",
    "b={1,3}\n",
    "a.intersection(b)"
   ]
  },
  {
   "cell_type": "code",
   "execution_count": 41,
   "id": "abd3a7a7",
   "metadata": {},
   "outputs": [
    {
     "data": {
      "text/plain": [
       "{3}"
      ]
     },
     "execution_count": 41,
     "metadata": {},
     "output_type": "execute_result"
    }
   ],
   "source": [
    "\n",
    "b.difference(a)"
   ]
  },
  {
   "cell_type": "code",
   "execution_count": 42,
   "id": "a067b335",
   "metadata": {},
   "outputs": [
    {
     "name": "stdout",
     "output_type": "stream",
     "text": [
      "True\n"
     ]
    }
   ],
   "source": [
    "x = {\"a\", \"b\", \"c\"}\n",
    "y = {\"f\", \"e\", \"d\", \"c\", \"b\", \"a\"}\n",
    "\n",
    "z = x.issubset(y)\n",
    "\n",
    "print(z)"
   ]
  },
  {
   "cell_type": "code",
   "execution_count": 43,
   "id": "a790426b",
   "metadata": {},
   "outputs": [
    {
     "name": "stdout",
     "output_type": "stream",
     "text": [
      "True\n"
     ]
    }
   ],
   "source": [
    "x = {\"f\", \"e\", \"d\", \"c\", \"b\", \"a\"}\n",
    "y = {\"a\", \"b\", \"c\"}\n",
    "\n",
    "z = x.issuperset(y)\n",
    "\n",
    "print(z)"
   ]
  },
  {
   "cell_type": "code",
   "execution_count": 48,
   "id": "d4246749",
   "metadata": {},
   "outputs": [
    {
     "data": {
      "text/plain": [
       "0"
      ]
     },
     "execution_count": 48,
     "metadata": {},
     "output_type": "execute_result"
    }
   ],
   "source": [
    "points = [1, 4, 2, 9, 7, 8, 9, 3, 1]\n",
    "\n",
    "x = points.count(0)\n",
    "x"
   ]
  },
  {
   "cell_type": "code",
   "execution_count": 51,
   "id": "87c7a8d2",
   "metadata": {},
   "outputs": [
    {
     "data": {
      "text/plain": [
       "3"
      ]
     },
     "execution_count": 51,
     "metadata": {},
     "output_type": "execute_result"
    }
   ],
   "source": [
    "points.index(9)"
   ]
  },
  {
   "cell_type": "code",
   "execution_count": 57,
   "id": "f318af8a",
   "metadata": {},
   "outputs": [],
   "source": [
    "file=open('LM10.txt','r')\n"
   ]
  },
  {
   "cell_type": "code",
   "execution_count": 58,
   "id": "61da861e",
   "metadata": {},
   "outputs": [
    {
     "data": {
      "text/plain": [
       "'LM10.txt'"
      ]
     },
     "execution_count": 58,
     "metadata": {},
     "output_type": "execute_result"
    }
   ],
   "source": [
    "file.name"
   ]
  },
  {
   "cell_type": "code",
   "execution_count": 59,
   "id": "2f5335a2",
   "metadata": {},
   "outputs": [
    {
     "data": {
      "text/plain": [
       "'r'"
      ]
     },
     "execution_count": 59,
     "metadata": {},
     "output_type": "execute_result"
    }
   ],
   "source": [
    "file.mode"
   ]
  },
  {
   "cell_type": "code",
   "execution_count": 61,
   "id": "bad06a14",
   "metadata": {},
   "outputs": [
    {
     "name": "stdout",
     "output_type": "stream",
     "text": [
      "\n"
     ]
    }
   ],
   "source": [
    "file_content=file.read()\n",
    "print(file_content)"
   ]
  },
  {
   "cell_type": "code",
   "execution_count": 62,
   "id": "c2942f04",
   "metadata": {},
   "outputs": [],
   "source": [
    "file.close()"
   ]
  },
  {
   "cell_type": "code",
   "execution_count": 63,
   "id": "305c7c68",
   "metadata": {},
   "outputs": [
    {
     "name": "stdout",
     "output_type": "stream",
     "text": [
      "\n"
     ]
    }
   ],
   "source": [
    "with open('LM10.txt','r') as file1:\n",
    "    filecontent=file1.read()\n",
    "    print(filecontent)"
   ]
  },
  {
   "cell_type": "code",
   "execution_count": 78,
   "id": "52c32f44",
   "metadata": {},
   "outputs": [],
   "source": [
    "file=open('LM10.txt','a')\n",
    "file.write('hi my name is saurabh.')\n",
    "file.close()"
   ]
  },
  {
   "cell_type": "code",
   "execution_count": 80,
   "id": "bf2afd78",
   "metadata": {},
   "outputs": [
    {
     "name": "stdout",
     "output_type": "stream",
     "text": [
      "hi my name is saurabhhi my name is saurabh.hi my name is saurabh.\n"
     ]
    }
   ],
   "source": [
    "file=open('LM10.txt','r')\n",
    "for i in file:\n",
    "    print(i)\n",
    "file.close()"
   ]
  },
  {
   "cell_type": "code",
   "execution_count": 81,
   "id": "b005086e",
   "metadata": {},
   "outputs": [
    {
     "name": "stdout",
     "output_type": "stream",
     "text": [
      "hi my name is saurabhhi my name is saurabh.hi my name is saurabh.\n"
     ]
    }
   ],
   "source": [
    "with open('LM10.txt','r') as file1:\n",
    "    filecontent=file1.read()\n",
    "    print(filecontent)"
   ]
  },
  {
   "cell_type": "code",
   "execution_count": 86,
   "id": "0a6b63df",
   "metadata": {},
   "outputs": [],
   "source": [
    "file=open('LM10.txt', 'w')\n",
    "file.write('hello')\n",
    "file.close()"
   ]
  },
  {
   "cell_type": "code",
   "execution_count": 88,
   "id": "6e3b3f08",
   "metadata": {},
   "outputs": [],
   "source": [
    "file=open('LM10.txt', 'r')\n",
    "file.read()\n",
    "file.close()"
   ]
  },
  {
   "cell_type": "code",
   "execution_count": 89,
   "id": "4393f16f",
   "metadata": {},
   "outputs": [],
   "source": [
    "words_to_replace=['hello']\n",
    "\n",
    "with open('LM10.txt','r') as file:\n",
    "    content=file.read()\n",
    "\n",
    "for i in words_to_replace:\n",
    "    content=content.replace(i,'hi')\n",
    "    \n",
    "with open('LM10.txt','w') as file:\n",
    "    file.write(content)"
   ]
  },
  {
   "cell_type": "code",
   "execution_count": 90,
   "id": "f32491c5",
   "metadata": {},
   "outputs": [
    {
     "data": {
      "text/plain": [
       "'hi'"
      ]
     },
     "execution_count": 90,
     "metadata": {},
     "output_type": "execute_result"
    }
   ],
   "source": [
    "file=open('LM10.txt','r')\n",
    "file.read()"
   ]
  },
  {
   "cell_type": "code",
   "execution_count": 98,
   "id": "9c048e91",
   "metadata": {},
   "outputs": [
    {
     "data": {
      "text/html": [
       "<div>\n",
       "<style scoped>\n",
       "    .dataframe tbody tr th:only-of-type {\n",
       "        vertical-align: middle;\n",
       "    }\n",
       "\n",
       "    .dataframe tbody tr th {\n",
       "        vertical-align: top;\n",
       "    }\n",
       "\n",
       "    .dataframe thead th {\n",
       "        text-align: right;\n",
       "    }\n",
       "</style>\n",
       "<table border=\"1\" class=\"dataframe\">\n",
       "  <thead>\n",
       "    <tr style=\"text-align: right;\">\n",
       "      <th></th>\n",
       "      <th>a</th>\n",
       "      <th>b</th>\n",
       "    </tr>\n",
       "  </thead>\n",
       "  <tbody>\n",
       "    <tr>\n",
       "      <th>0</th>\n",
       "      <td>11</td>\n",
       "      <td>21</td>\n",
       "    </tr>\n",
       "    <tr>\n",
       "      <th>1</th>\n",
       "      <td>25</td>\n",
       "      <td>22</td>\n",
       "    </tr>\n",
       "    <tr>\n",
       "      <th>2</th>\n",
       "      <td>31</td>\n",
       "      <td>23</td>\n",
       "    </tr>\n",
       "  </tbody>\n",
       "</table>\n",
       "</div>"
      ],
      "text/plain": [
       "    a   b\n",
       "0  11  21\n",
       "1  25  22\n",
       "2  31  23"
      ]
     },
     "execution_count": 98,
     "metadata": {},
     "output_type": "execute_result"
    }
   ],
   "source": [
    "import pandas as banana\n",
    "\n",
    "df=banana.DataFrame({'a':[11,25,31],'b':[21,22,23]})\n",
    "\n",
    "df.head()"
   ]
  },
  {
   "cell_type": "code",
   "execution_count": 97,
   "id": "1b4d6e28",
   "metadata": {},
   "outputs": [
    {
     "data": {
      "text/plain": [
       "21"
      ]
     },
     "execution_count": 97,
     "metadata": {},
     "output_type": "execute_result"
    }
   ],
   "source": [
    "df.iloc[0,1]"
   ]
  },
  {
   "cell_type": "code",
   "execution_count": 102,
   "id": "cdc62f4c",
   "metadata": {},
   "outputs": [
    {
     "data": {
      "text/plain": [
       "0     True\n",
       "1    False\n",
       "2     True\n",
       "Name: a, dtype: bool"
      ]
     },
     "execution_count": 102,
     "metadata": {},
     "output_type": "execute_result"
    }
   ],
   "source": [
    "import pandas as pd\n",
    "df=pd.DataFrame({'a':[1,2,1],'b':[1,1,1]})\n",
    "\n",
    "df['a']==1"
   ]
  },
  {
   "cell_type": "code",
   "execution_count": 107,
   "id": "ea827884",
   "metadata": {},
   "outputs": [
    {
     "data": {
      "text/plain": [
       "array([1, 1])"
      ]
     },
     "execution_count": 107,
     "metadata": {},
     "output_type": "execute_result"
    }
   ],
   "source": [
    "import numpy as np\n",
    "np.array([1,1])*np.array([1,1])"
   ]
  },
  {
   "cell_type": "code",
   "execution_count": 117,
   "id": "d1c3136b",
   "metadata": {},
   "outputs": [
    {
     "data": {
      "text/plain": [
       "2"
      ]
     },
     "execution_count": 117,
     "metadata": {},
     "output_type": "execute_result"
    }
   ],
   "source": [
    "np.dot(np.array([1,1]),np.array([1,1]))"
   ]
  },
  {
   "cell_type": "code",
   "execution_count": 116,
   "id": "13bf4ed4",
   "metadata": {},
   "outputs": [
    {
     "data": {
      "text/plain": [
       "array([0, 0, 0, 0, 0])"
      ]
     },
     "execution_count": 116,
     "metadata": {},
     "output_type": "execute_result"
    }
   ],
   "source": [
    "a=np.array([0,1,0,1,0])\n",
    "\n",
    "b=np.array([1,0,1,0,1])\n",
    "\n",
    "a*b"
   ]
  },
  {
   "cell_type": "code",
   "execution_count": 119,
   "id": "a8ab190c",
   "metadata": {},
   "outputs": [
    {
     "ename": "SyntaxError",
     "evalue": "cannot assign to function call (3771160541.py, line 1)",
     "output_type": "error",
     "traceback": [
      "\u001b[1;36m  File \u001b[1;32m\"C:\\Users\\saura\\AppData\\Local\\Temp\\ipykernel_47800\\3771160541.py\"\u001b[1;36m, line \u001b[1;32m1\u001b[0m\n\u001b[1;33m    a=np.array([0,1]),b=np.array([1,0])\u001b[0m\n\u001b[1;37m      ^\u001b[0m\n\u001b[1;31mSyntaxError\u001b[0m\u001b[1;31m:\u001b[0m cannot assign to function call\n"
     ]
    }
   ],
   "source": [
    "a=np.array([0,1]),b=np.array([1,0])\n",
    "\n",
    "np.dot(a,b)"
   ]
  },
  {
   "cell_type": "code",
   "execution_count": 120,
   "id": "d19c40d2",
   "metadata": {},
   "outputs": [
    {
     "data": {
      "text/plain": [
       "array([11, 11, 11, 11, 11])"
      ]
     },
     "execution_count": 120,
     "metadata": {},
     "output_type": "execute_result"
    }
   ],
   "source": [
    "a=np.array([1,1,1,1,1])\n",
    "\n",
    "a+10"
   ]
  },
  {
   "cell_type": "code",
   "execution_count": null,
   "id": "b565f591",
   "metadata": {},
   "outputs": [],
   "source": []
  }
 ],
 "metadata": {
  "kernelspec": {
   "display_name": "Python 3 (ipykernel)",
   "language": "python",
   "name": "python3"
  },
  "language_info": {
   "codemirror_mode": {
    "name": "ipython",
    "version": 3
   },
   "file_extension": ".py",
   "mimetype": "text/x-python",
   "name": "python",
   "nbconvert_exporter": "python",
   "pygments_lexer": "ipython3",
   "version": "3.9.13"
  }
 },
 "nbformat": 4,
 "nbformat_minor": 5
}
